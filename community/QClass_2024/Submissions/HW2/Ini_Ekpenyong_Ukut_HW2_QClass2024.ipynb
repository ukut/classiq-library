{
  "cells": [
    {
      "cell_type": "markdown",
      "metadata": {
        "id": "VzB3Nv3ln5hz"
      },
      "source": [
        "# The Qmod Workshop - Part 2: Higher-Level Concepts\n",
        "\n",
        "This is the second part of the Qmod workshop, covering exercises 6 through 10. Make sure to go through Part 1 before continuing with this notebook."
      ]
    },
    {
      "cell_type": "code",
      "source": [
        "pip install -U classiq"
      ],
      "metadata": {
        "colab": {
          "base_uri": "https://localhost:8080/"
        },
        "id": "EgPKWH_qbtas",
        "outputId": "aa4cad63-d622-450c-c4d9-fd6bfbbc0a42"
      },
      "execution_count": 1,
      "outputs": [
        {
          "output_type": "stream",
          "name": "stdout",
          "text": [
            "Collecting classiq\n",
            "  Downloading classiq-0.41.2-py3-none-any.whl (398 kB)\n",
            "\u001b[2K     \u001b[90m━━━━━━━━━━━━━━━━━━━━━━━━━━━━━━━━━━━━━━━━\u001b[0m \u001b[32m398.1/398.1 kB\u001b[0m \u001b[31m3.9 MB/s\u001b[0m eta \u001b[36m0:00:00\u001b[0m\n",
            "\u001b[?25hCollecting ConfigArgParse<2.0.0,>=1.5.3 (from classiq)\n",
            "  Downloading ConfigArgParse-1.7-py3-none-any.whl (25 kB)\n",
            "Collecting Pyomo<6.6,>=6.5 (from classiq)\n",
            "  Downloading Pyomo-6.5.0-cp310-cp310-manylinux_2_17_x86_64.manylinux2014_x86_64.whl (10.7 MB)\n",
            "\u001b[2K     \u001b[90m━━━━━━━━━━━━━━━━━━━━━━━━━━━━━━━━━━━━━━━━\u001b[0m \u001b[32m10.7/10.7 MB\u001b[0m \u001b[31m16.0 MB/s\u001b[0m eta \u001b[36m0:00:00\u001b[0m\n",
            "\u001b[?25hCollecting black<25.0,>=24.0 (from classiq)\n",
            "  Downloading black-24.4.2-cp310-cp310-manylinux_2_17_x86_64.manylinux2014_x86_64.whl (1.8 MB)\n",
            "\u001b[2K     \u001b[90m━━━━━━━━━━━━━━━━━━━━━━━━━━━━━━━━━━━━━━━━\u001b[0m \u001b[32m1.8/1.8 MB\u001b[0m \u001b[31m29.3 MB/s\u001b[0m eta \u001b[36m0:00:00\u001b[0m\n",
            "\u001b[?25hCollecting httpx<1,>=0.23.0 (from classiq)\n",
            "  Downloading httpx-0.27.0-py3-none-any.whl (75 kB)\n",
            "\u001b[2K     \u001b[90m━━━━━━━━━━━━━━━━━━━━━━━━━━━━━━━━━━━━━━━━\u001b[0m \u001b[32m75.6/75.6 kB\u001b[0m \u001b[31m7.0 MB/s\u001b[0m eta \u001b[36m0:00:00\u001b[0m\n",
            "\u001b[?25hRequirement already satisfied: keyring<24.0.0,>=23.5.0 in /usr/lib/python3/dist-packages (from classiq) (23.5.0)\n",
            "Requirement already satisfied: matplotlib<4.0.0,>=3.4.3 in /usr/local/lib/python3.10/dist-packages (from classiq) (3.7.1)\n",
            "Collecting networkx<3.0.0,>=2.5.1 (from classiq)\n",
            "  Downloading networkx-2.8.8-py3-none-any.whl (2.0 MB)\n",
            "\u001b[2K     \u001b[90m━━━━━━━━━━━━━━━━━━━━━━━━━━━━━━━━━━━━━━━━\u001b[0m \u001b[32m2.0/2.0 MB\u001b[0m \u001b[31m27.7 MB/s\u001b[0m eta \u001b[36m0:00:00\u001b[0m\n",
            "\u001b[?25hRequirement already satisfied: numexpr<3.0.0,>=2.7.3 in /usr/local/lib/python3.10/dist-packages (from classiq) (2.10.0)\n",
            "Requirement already satisfied: numpy<2.0.0,>=1.20.1 in /usr/local/lib/python3.10/dist-packages (from classiq) (1.25.2)\n",
            "Collecting packaging<23.0,>=22.0 (from classiq)\n",
            "  Downloading packaging-22.0-py3-none-any.whl (42 kB)\n",
            "\u001b[2K     \u001b[90m━━━━━━━━━━━━━━━━━━━━━━━━━━━━━━━━━━━━━━━━\u001b[0m \u001b[32m42.6/42.6 kB\u001b[0m \u001b[31m2.5 MB/s\u001b[0m eta \u001b[36m0:00:00\u001b[0m\n",
            "\u001b[?25hRequirement already satisfied: pandas<3.0.0,>=1.4.0 in /usr/local/lib/python3.10/dist-packages (from classiq) (2.0.3)\n",
            "Requirement already satisfied: plotly<6.0.0,>=5.7.0 in /usr/local/lib/python3.10/dist-packages (from classiq) (5.15.0)\n",
            "Collecting pydantic<2.0.0,>=1.9.1 (from classiq)\n",
            "  Downloading pydantic-1.10.15-cp310-cp310-manylinux_2_17_x86_64.manylinux2014_x86_64.whl (3.1 MB)\n",
            "\u001b[2K     \u001b[90m━━━━━━━━━━━━━━━━━━━━━━━━━━━━━━━━━━━━━━━━\u001b[0m \u001b[32m3.1/3.1 MB\u001b[0m \u001b[31m14.4 MB/s\u001b[0m eta \u001b[36m0:00:00\u001b[0m\n",
            "\u001b[?25hRequirement already satisfied: scipy<2.0.0,>=1.10.1 in /usr/local/lib/python3.10/dist-packages (from classiq) (1.11.4)\n",
            "Collecting sympy<1.11.0,>=1.9.0 (from classiq)\n",
            "  Downloading sympy-1.10.1-py3-none-any.whl (6.4 MB)\n",
            "\u001b[2K     \u001b[90m━━━━━━━━━━━━━━━━━━━━━━━━━━━━━━━━━━━━━━━━\u001b[0m \u001b[32m6.4/6.4 MB\u001b[0m \u001b[31m22.0 MB/s\u001b[0m eta \u001b[36m0:00:00\u001b[0m\n",
            "\u001b[?25hRequirement already satisfied: tabulate<1,>=0.8.9 in /usr/local/lib/python3.10/dist-packages (from classiq) (0.9.0)\n",
            "Requirement already satisfied: click>=8.0.0 in /usr/local/lib/python3.10/dist-packages (from black<25.0,>=24.0->classiq) (8.1.7)\n",
            "Collecting mypy-extensions>=0.4.3 (from black<25.0,>=24.0->classiq)\n",
            "  Downloading mypy_extensions-1.0.0-py3-none-any.whl (4.7 kB)\n",
            "Collecting pathspec>=0.9.0 (from black<25.0,>=24.0->classiq)\n",
            "  Downloading pathspec-0.12.1-py3-none-any.whl (31 kB)\n",
            "Requirement already satisfied: platformdirs>=2 in /usr/local/lib/python3.10/dist-packages (from black<25.0,>=24.0->classiq) (4.2.2)\n",
            "Requirement already satisfied: tomli>=1.1.0 in /usr/local/lib/python3.10/dist-packages (from black<25.0,>=24.0->classiq) (2.0.1)\n",
            "Requirement already satisfied: typing-extensions>=4.0.1 in /usr/local/lib/python3.10/dist-packages (from black<25.0,>=24.0->classiq) (4.11.0)\n",
            "Requirement already satisfied: anyio in /usr/local/lib/python3.10/dist-packages (from httpx<1,>=0.23.0->classiq) (3.7.1)\n",
            "Requirement already satisfied: certifi in /usr/local/lib/python3.10/dist-packages (from httpx<1,>=0.23.0->classiq) (2024.2.2)\n",
            "Collecting httpcore==1.* (from httpx<1,>=0.23.0->classiq)\n",
            "  Downloading httpcore-1.0.5-py3-none-any.whl (77 kB)\n",
            "\u001b[2K     \u001b[90m━━━━━━━━━━━━━━━━━━━━━━━━━━━━━━━━━━━━━━━━\u001b[0m \u001b[32m77.9/77.9 kB\u001b[0m \u001b[31m4.0 MB/s\u001b[0m eta \u001b[36m0:00:00\u001b[0m\n",
            "\u001b[?25hRequirement already satisfied: idna in /usr/local/lib/python3.10/dist-packages (from httpx<1,>=0.23.0->classiq) (3.7)\n",
            "Requirement already satisfied: sniffio in /usr/local/lib/python3.10/dist-packages (from httpx<1,>=0.23.0->classiq) (1.3.1)\n",
            "Collecting h11<0.15,>=0.13 (from httpcore==1.*->httpx<1,>=0.23.0->classiq)\n",
            "  Downloading h11-0.14.0-py3-none-any.whl (58 kB)\n",
            "\u001b[2K     \u001b[90m━━━━━━━━━━━━━━━━━━━━━━━━━━━━━━━━━━━━━━━━\u001b[0m \u001b[32m58.3/58.3 kB\u001b[0m \u001b[31m5.3 MB/s\u001b[0m eta \u001b[36m0:00:00\u001b[0m\n",
            "\u001b[?25hRequirement already satisfied: contourpy>=1.0.1 in /usr/local/lib/python3.10/dist-packages (from matplotlib<4.0.0,>=3.4.3->classiq) (1.2.1)\n",
            "Requirement already satisfied: cycler>=0.10 in /usr/local/lib/python3.10/dist-packages (from matplotlib<4.0.0,>=3.4.3->classiq) (0.12.1)\n",
            "Requirement already satisfied: fonttools>=4.22.0 in /usr/local/lib/python3.10/dist-packages (from matplotlib<4.0.0,>=3.4.3->classiq) (4.51.0)\n",
            "Requirement already satisfied: kiwisolver>=1.0.1 in /usr/local/lib/python3.10/dist-packages (from matplotlib<4.0.0,>=3.4.3->classiq) (1.4.5)\n",
            "Requirement already satisfied: pillow>=6.2.0 in /usr/local/lib/python3.10/dist-packages (from matplotlib<4.0.0,>=3.4.3->classiq) (9.4.0)\n",
            "Requirement already satisfied: pyparsing>=2.3.1 in /usr/local/lib/python3.10/dist-packages (from matplotlib<4.0.0,>=3.4.3->classiq) (3.1.2)\n",
            "Requirement already satisfied: python-dateutil>=2.7 in /usr/local/lib/python3.10/dist-packages (from matplotlib<4.0.0,>=3.4.3->classiq) (2.8.2)\n",
            "Requirement already satisfied: pytz>=2020.1 in /usr/local/lib/python3.10/dist-packages (from pandas<3.0.0,>=1.4.0->classiq) (2023.4)\n",
            "Requirement already satisfied: tzdata>=2022.1 in /usr/local/lib/python3.10/dist-packages (from pandas<3.0.0,>=1.4.0->classiq) (2024.1)\n",
            "Requirement already satisfied: tenacity>=6.2.0 in /usr/local/lib/python3.10/dist-packages (from plotly<6.0.0,>=5.7.0->classiq) (8.3.0)\n",
            "Collecting ply (from Pyomo<6.6,>=6.5->classiq)\n",
            "  Downloading ply-3.11-py2.py3-none-any.whl (49 kB)\n",
            "\u001b[2K     \u001b[90m━━━━━━━━━━━━━━━━━━━━━━━━━━━━━━━━━━━━━━━━\u001b[0m \u001b[32m49.6/49.6 kB\u001b[0m \u001b[31m3.7 MB/s\u001b[0m eta \u001b[36m0:00:00\u001b[0m\n",
            "\u001b[?25hRequirement already satisfied: mpmath>=0.19 in /usr/local/lib/python3.10/dist-packages (from sympy<1.11.0,>=1.9.0->classiq) (1.3.0)\n",
            "Requirement already satisfied: six>=1.5 in /usr/local/lib/python3.10/dist-packages (from python-dateutil>=2.7->matplotlib<4.0.0,>=3.4.3->classiq) (1.16.0)\n",
            "Requirement already satisfied: exceptiongroup in /usr/local/lib/python3.10/dist-packages (from anyio->httpx<1,>=0.23.0->classiq) (1.2.1)\n",
            "Installing collected packages: ply, sympy, Pyomo, pydantic, pathspec, packaging, networkx, mypy-extensions, h11, ConfigArgParse, httpcore, black, httpx, classiq\n",
            "  Attempting uninstall: sympy\n",
            "    Found existing installation: sympy 1.12\n",
            "    Uninstalling sympy-1.12:\n",
            "      Successfully uninstalled sympy-1.12\n",
            "  Attempting uninstall: pydantic\n",
            "    Found existing installation: pydantic 2.7.1\n",
            "    Uninstalling pydantic-2.7.1:\n",
            "      Successfully uninstalled pydantic-2.7.1\n",
            "  Attempting uninstall: packaging\n",
            "    Found existing installation: packaging 24.0\n",
            "    Uninstalling packaging-24.0:\n",
            "      Successfully uninstalled packaging-24.0\n",
            "  Attempting uninstall: networkx\n",
            "    Found existing installation: networkx 3.3\n",
            "    Uninstalling networkx-3.3:\n",
            "      Successfully uninstalled networkx-3.3\n",
            "\u001b[31mERROR: pip's dependency resolver does not currently take into account all the packages that are installed. This behaviour is the source of the following dependency conflicts.\n",
            "torch 2.3.0+cu121 requires nvidia-cublas-cu12==12.1.3.1; platform_system == \"Linux\" and platform_machine == \"x86_64\", which is not installed.\n",
            "torch 2.3.0+cu121 requires nvidia-cuda-cupti-cu12==12.1.105; platform_system == \"Linux\" and platform_machine == \"x86_64\", which is not installed.\n",
            "torch 2.3.0+cu121 requires nvidia-cuda-nvrtc-cu12==12.1.105; platform_system == \"Linux\" and platform_machine == \"x86_64\", which is not installed.\n",
            "torch 2.3.0+cu121 requires nvidia-cuda-runtime-cu12==12.1.105; platform_system == \"Linux\" and platform_machine == \"x86_64\", which is not installed.\n",
            "torch 2.3.0+cu121 requires nvidia-cudnn-cu12==8.9.2.26; platform_system == \"Linux\" and platform_machine == \"x86_64\", which is not installed.\n",
            "torch 2.3.0+cu121 requires nvidia-cufft-cu12==11.0.2.54; platform_system == \"Linux\" and platform_machine == \"x86_64\", which is not installed.\n",
            "torch 2.3.0+cu121 requires nvidia-curand-cu12==10.3.2.106; platform_system == \"Linux\" and platform_machine == \"x86_64\", which is not installed.\n",
            "torch 2.3.0+cu121 requires nvidia-cusolver-cu12==11.4.5.107; platform_system == \"Linux\" and platform_machine == \"x86_64\", which is not installed.\n",
            "torch 2.3.0+cu121 requires nvidia-cusparse-cu12==12.1.0.106; platform_system == \"Linux\" and platform_machine == \"x86_64\", which is not installed.\n",
            "torch 2.3.0+cu121 requires nvidia-nccl-cu12==2.20.5; platform_system == \"Linux\" and platform_machine == \"x86_64\", which is not installed.\n",
            "torch 2.3.0+cu121 requires nvidia-nvtx-cu12==12.1.105; platform_system == \"Linux\" and platform_machine == \"x86_64\", which is not installed.\u001b[0m\u001b[31m\n",
            "\u001b[0mSuccessfully installed ConfigArgParse-1.7 Pyomo-6.5.0 black-24.4.2 classiq-0.41.2 h11-0.14.0 httpcore-1.0.5 httpx-0.27.0 mypy-extensions-1.0.0 networkx-2.8.8 packaging-22.0 pathspec-0.12.1 ply-3.11 pydantic-1.10.15 sympy-1.10.1\n"
          ]
        }
      ]
    },
    {
      "cell_type": "code",
      "source": [
        "import classiq\n",
        "classiq.authenticate()"
      ],
      "metadata": {
        "colab": {
          "base_uri": "https://localhost:8080/"
        },
        "id": "1XrVtNiPcLeb",
        "outputId": "d8a61c82-d5b6-4391-a22b-b45073c70eed"
      },
      "execution_count": 2,
      "outputs": [
        {
          "output_type": "stream",
          "name": "stdout",
          "text": [
            "Your user code: KXHM-XVGT\n",
            "If a browser doesn't automatically open, please visit this URL from any trusted device: https://auth.classiq.io/activate?user_code=KXHM-XVGT\n"
          ]
        }
      ]
    },
    {
      "cell_type": "code",
      "execution_count": 3,
      "metadata": {
        "id": "Fw8aLf7-n5h4"
      },
      "outputs": [],
      "source": [
        "from classiq import *"
      ]
    },
    {
      "cell_type": "markdown",
      "metadata": {
        "id": "kzrD6BGjn5h6"
      },
      "source": [
        "### Exercise 6 - Exponentiation and Pauli Operators\n",
        "\n",
        "The Qmod language supports different classical types: scalars, arrays, and structs. Structs are objects with member variables, or fields.\n",
        "\n",
        "See also [Classical Types](https://docs.classiq.io/latest/user-guide/platform/qmod/language-reference/classical-types/#structs).\n",
        "\n",
        "The builtin struct type `PauliTerm` is defined as follows:"
      ]
    },
    {
      "cell_type": "code",
      "execution_count": null,
      "metadata": {
        "id": "lQ57jP7dn5h7"
      },
      "outputs": [],
      "source": [
        "@struct\n",
        "class PauliTerm:\n",
        "    pauli: CArray[Pauli]\n",
        "    coefficient: CReal"
      ]
    },
    {
      "cell_type": "markdown",
      "metadata": {
        "id": "JieXz9Qsn5h8"
      },
      "source": [
        "Note that `Pauli` is an enum for all the Pauli matrices (I, X, Y, Z).\n",
        "\n",
        "Pauli based hamiltonian can be represented as a list of `PauliTerm`s. A Pauli operator defined this way is the argument to a hamiltonian evolution functions.\n",
        "\n",
        "In this exercise we will use the Suzuki-Trotter function to find the evolution of `H=0.5XZXX + 0.25YIZI + 0.3 XIZY` (captured as a literal value for the pauli-operator), with the evolution coefficient being 3, the order being 2, and use 4 repetitions.\n",
        "\n",
        "The declaration of the `suzuki_trotter` function is:"
      ]
    },
    {
      "cell_type": "code",
      "execution_count": 10,
      "metadata": {
        "id": "CPKES2qHn5h9"
      },
      "outputs": [],
      "source": [
        "@qfunc(external=True)\n",
        "def suzuki_trotter(\n",
        "    pauli_operator: CArray[PauliTerm],\n",
        "    evolution_coefficient: CReal,\n",
        "    order: CInt,\n",
        "    repetitions: CInt,\n",
        "    qbv: QArray[QBit],\n",
        ") -> None:\n",
        "    pass"
      ]
    },
    {
      "cell_type": "markdown",
      "metadata": {
        "id": "N-oP4-q0n5h-"
      },
      "source": [
        "Fill in the missing parts of the following code in order to complete this exercise:"
      ]
    },
    {
      "cell_type": "code",
      "execution_count": 11,
      "metadata": {
        "id": "xaymYj_Tn5h_",
        "outputId": "375be56a-fe98-4cfa-e266-f9c8f6a9b03d",
        "colab": {
          "base_uri": "https://localhost:8080/"
        }
      },
      "outputs": [
        {
          "output_type": "stream",
          "name": "stdout",
          "text": [
            "Opening: https://platform.classiq.io/circuit/0c2ab68e-12eb-442c-8545-7feca8322493?version=0.41.2\n"
          ]
        }
      ],
      "source": [
        "from classiq import *\n",
        "\n",
        "\n",
        "@qfunc\n",
        "def main(q: Output[QArray[QBit]]) -> None:\n",
        "    allocate(4, q)\n",
        "    suzuki_trotter(\n",
        "        [PauliTerm(pauli=[Pauli.X,Pauli.Z, Pauli.X, Pauli.X], coefficient=0.5),\n",
        "         PauliTerm(pauli=[Pauli.Y, Pauli.I,Pauli.Z, Pauli.I], coefficient=0.25),\n",
        "         PauliTerm(pauli=[Pauli.X,Pauli.I,Pauli.Z, Pauli.Y], coefficient= 0.3),\n",
        "         ],\n",
        "\n",
        "        evolution_coefficient=3,\n",
        "        repetitions=4,\n",
        "        order=2,\n",
        "        qbv=q,\n",
        "    )\n",
        "\n",
        "\n",
        "qmod = create_model(main)\n",
        "qprog = synthesize(qmod)\n",
        "show(qprog)"
      ]
    },
    {
      "cell_type": "code",
      "source": [],
      "metadata": {
        "id": "Eq23rMVfbghu"
      },
      "execution_count": 11,
      "outputs": []
    },
    {
      "cell_type": "markdown",
      "metadata": {
        "id": "BLv9aWX_n5iC"
      },
      "source": [
        "### Exercise 7 - Basic Arithmetics\n",
        "\n",
        "#### Exercise 7a\n",
        "In this exercise we will use quantum numeric variables and calculate expressions over them.\n",
        "\n",
        "See details on the syntax of numeric types under [Quantum types](https://docs.classiq.io/latest/user-guide/platform/qmod/language-reference/quantum-types/#syntax).\n",
        "See more on quantum expressions under [Numeric assignment](https://docs.classiq.io/latest/user-guide/platform/qmod/language-reference/statements/numeric-assignment/)\n",
        "\n",
        "Create the following quantum programs:\n",
        "1. Initialize variables `x=2`, `y=7` and computes `res = x + y`.\n",
        "2. Initialize variables `x=2`, `y=7` and computes `res = x * y`.\n",
        "3. Initialize variables `x=2`, `y=7`, `z=1` and computes `res = x * y - z`.\n",
        "\n",
        "Guidance:\n",
        "* Use the operator `|=` to perform out-of-place assignment of arithmetic expression.\n",
        "* To initialize the variables, use the function `prepare_int`.\n"
      ]
    },
    {
      "cell_type": "code",
      "execution_count": 4,
      "metadata": {
        "id": "jqrkMQnUn5iD",
        "colab": {
          "base_uri": "https://localhost:8080/"
        },
        "outputId": "9fa25f81-65a6-4cd1-bb8e-122c4f37ff1b"
      },
      "outputs": [
        {
          "output_type": "stream",
          "name": "stdout",
          "text": [
            "Opening: https://platform.classiq.io/circuit/e67730ea-b1aa-4c01-8741-678983b6e6c4?version=0.41.2\n"
          ]
        }
      ],
      "source": [
        "from classiq import *\n",
        "@qfunc\n",
        "def main(res: Output[QNum]):\n",
        "    x = QNum(\"x\")\n",
        "    y = QNum(\"y\")\n",
        "    z = QNum(\"z\")\n",
        "    prepare_int(2, x)\n",
        "    prepare_int(7,y)\n",
        "    prepare_int(1,z)\n",
        "    res |= x + y\n",
        "    #res |= x*y\n",
        "    #res |= x *y - z\n",
        "\n",
        "qmod = create_model(main)\n",
        "qprog = synthesize(qmod)\n",
        "show(qprog)"
      ]
    },
    {
      "cell_type": "code",
      "source": [
        "from classiq import *\n",
        "@qfunc\n",
        "def main(res: Output[QNum]):\n",
        "    x = QNum(\"x\")\n",
        "    y = QNum(\"y\")\n",
        "    z = QNum(\"z\")\n",
        "    prepare_int(2, x)\n",
        "    prepare_int(7,y)\n",
        "    prepare_int(1,z)\n",
        "    #res |= x + y\n",
        "    res |= x*y\n",
        "    #res |= x *y - z\n",
        "\n",
        "qmod = create_model(main)\n",
        "qprog = synthesize(qmod)\n",
        "show(qprog)"
      ],
      "metadata": {
        "colab": {
          "base_uri": "https://localhost:8080/"
        },
        "id": "qZwA-oylsMIO",
        "outputId": "b5dc1b10-4959-45e9-e2fd-4b02f94e484b"
      },
      "execution_count": 5,
      "outputs": [
        {
          "output_type": "stream",
          "name": "stdout",
          "text": [
            "Opening: https://platform.classiq.io/circuit/3ee95b5e-555f-4ca0-a17c-b65545749b7b?version=0.41.2\n"
          ]
        }
      ]
    },
    {
      "cell_type": "code",
      "source": [
        "from classiq import *\n",
        "@qfunc\n",
        "def main(res: Output[QNum]):\n",
        "    x = QNum(\"x\")\n",
        "    y = QNum(\"y\")\n",
        "    z = QNum(\"z\")\n",
        "    prepare_int(2, x)\n",
        "    prepare_int(7,y)\n",
        "    prepare_int(1,z)\n",
        "    #res |= x + y\n",
        "    #res |= x*y\n",
        "    res |= x *y - z\n",
        "\n",
        "qmod = create_model(main)\n",
        "qprog = synthesize(qmod)\n",
        "show(qprog)"
      ],
      "metadata": {
        "colab": {
          "base_uri": "https://localhost:8080/"
        },
        "id": "nkXpaYk_sTyh",
        "outputId": "a3ee0ec7-de06-481b-888a-a6819284b028"
      },
      "execution_count": 6,
      "outputs": [
        {
          "output_type": "stream",
          "name": "stdout",
          "text": [
            "Opening: https://platform.classiq.io/circuit/b59a64df-be5c-4c06-852c-e58c088f4a75?version=0.41.2\n"
          ]
        }
      ]
    },
    {
      "cell_type": "markdown",
      "metadata": {
        "id": "7XExUNDVn5iE"
      },
      "source": [
        "#### Exercise 7b\n",
        "Declare `x` to be a 2-qubit variable and `y` to be 3-qubit variable.\n",
        "\n",
        "We will perform an addition of two superposition states: `x` is an equal superposition of `0` and `2`, and `y` is an equal superposition of `1`, `2`, `3`, and `6`.\n",
        "\n",
        "1. Use `prepare_state` to initialize `x` and `y`. Note that `prepare_state` works with probabilities, not amplitudes.\n",
        "   The declaration of the `prepare_state` function is:\n",
        "   ```\n",
        "        @qfunc(external=True)\n",
        "        def prepare_state(\n",
        "            probabilities: CArray[CReal],\n",
        "            bound: CReal,\n",
        "            out: Output[QArray[QBit]],\n",
        "        ) -> None:\n",
        "            pass\n",
        "   ```\n",
        "   (Set the bound to 0 in your code)\n",
        "2. Compute `res = x + y`. Execute the resulting circuit. What did you get?"
      ]
    },
    {
      "cell_type": "code",
      "execution_count": 7,
      "metadata": {
        "id": "Faui54v7n5iE",
        "colab": {
          "base_uri": "https://localhost:8080/",
          "height": 356
        },
        "outputId": "be812e0c-f8f6-434c-f22a-e15b19362e4e"
      },
      "outputs": [
        {
          "output_type": "error",
          "ename": "UnboundLocalError",
          "evalue": "local variable 'res' referenced before assignment",
          "traceback": [
            "\u001b[0;31m---------------------------------------------------------------------------\u001b[0m",
            "\u001b[0;31mUnboundLocalError\u001b[0m                         Traceback (most recent call last)",
            "\u001b[0;32m<ipython-input-7-56f19c50b37b>\u001b[0m in \u001b[0;36m<cell line: 8>\u001b[0;34m()\u001b[0m\n\u001b[1;32m      6\u001b[0m   \u001b[0mprepare_state\u001b[0m\u001b[0;34m(\u001b[0m\u001b[0;34m[\u001b[0m\u001b[0;36m0\u001b[0m\u001b[0;34m,\u001b[0m \u001b[0;36m0.25\u001b[0m\u001b[0;34m,\u001b[0m \u001b[0;36m0.25\u001b[0m\u001b[0;34m,\u001b[0m \u001b[0;36m0.25\u001b[0m\u001b[0;34m,\u001b[0m \u001b[0;36m0\u001b[0m\u001b[0;34m,\u001b[0m \u001b[0;36m0\u001b[0m\u001b[0;34m,\u001b[0m \u001b[0;36m0.25\u001b[0m\u001b[0;34m,\u001b[0m \u001b[0;36m0\u001b[0m\u001b[0;34m]\u001b[0m\u001b[0;34m,\u001b[0m \u001b[0;36m0\u001b[0m\u001b[0;34m,\u001b[0m \u001b[0my\u001b[0m\u001b[0;34m)\u001b[0m\u001b[0;34m\u001b[0m\u001b[0;34m\u001b[0m\u001b[0m\n\u001b[1;32m      7\u001b[0m   \u001b[0mres\u001b[0m \u001b[0;34m|=\u001b[0m \u001b[0mx\u001b[0m \u001b[0;34m+\u001b[0m \u001b[0my\u001b[0m\u001b[0;34m\u001b[0m\u001b[0;34m\u001b[0m\u001b[0m\n\u001b[0;32m----> 8\u001b[0;31m \u001b[0mqmod\u001b[0m \u001b[0;34m=\u001b[0m \u001b[0mcreate_model\u001b[0m\u001b[0;34m(\u001b[0m\u001b[0mmain\u001b[0m\u001b[0;34m)\u001b[0m\u001b[0;34m\u001b[0m\u001b[0;34m\u001b[0m\u001b[0m\n\u001b[0m\u001b[1;32m      9\u001b[0m \u001b[0mqprog\u001b[0m \u001b[0;34m=\u001b[0m \u001b[0msynthesize\u001b[0m\u001b[0;34m(\u001b[0m\u001b[0mqmod\u001b[0m\u001b[0;34m)\u001b[0m\u001b[0;34m\u001b[0m\u001b[0;34m\u001b[0m\u001b[0m\n\u001b[1;32m     10\u001b[0m \u001b[0mshow\u001b[0m\u001b[0;34m(\u001b[0m\u001b[0mqprog\u001b[0m\u001b[0;34m)\u001b[0m\u001b[0;34m\u001b[0m\u001b[0;34m\u001b[0m\u001b[0m\n",
            "\u001b[0;32m/usr/local/lib/python3.10/dist-packages/classiq/qmod/quantum_function.py\u001b[0m in \u001b[0;36mcreate_model\u001b[0;34m(entry_point, constraints, execution_preferences, preferences, classical_execution_function)\u001b[0m\n\u001b[1;32m     41\u001b[0m             \u001b[0;34mf\"The entry point function must be named 'main', got '{entry_point.func_decl.name}'\"\u001b[0m\u001b[0;34m\u001b[0m\u001b[0;34m\u001b[0m\u001b[0m\n\u001b[1;32m     42\u001b[0m         )\n\u001b[0;32m---> 43\u001b[0;31m     return entry_point.create_model(\n\u001b[0m\u001b[1;32m     44\u001b[0m         \u001b[0mconstraints\u001b[0m\u001b[0;34m,\u001b[0m \u001b[0mexecution_preferences\u001b[0m\u001b[0;34m,\u001b[0m \u001b[0mpreferences\u001b[0m\u001b[0;34m,\u001b[0m \u001b[0mclassical_execution_function\u001b[0m\u001b[0;34m\u001b[0m\u001b[0;34m\u001b[0m\u001b[0m\n\u001b[1;32m     45\u001b[0m     ).get_model()\n",
            "\u001b[0;32m/usr/local/lib/python3.10/dist-packages/classiq/qmod/quantum_function.py\u001b[0m in \u001b[0;36mcreate_model\u001b[0;34m(self, constraints, execution_preferences, preferences, classical_execution_function)\u001b[0m\n\u001b[1;32m     76\u001b[0m         \u001b[0mself\u001b[0m\u001b[0;34m.\u001b[0m\u001b[0m_qmodule\u001b[0m\u001b[0;34m.\u001b[0m\u001b[0mconstants\u001b[0m \u001b[0;34m=\u001b[0m \u001b[0mdict\u001b[0m\u001b[0;34m(\u001b[0m\u001b[0;34m)\u001b[0m\u001b[0;34m\u001b[0m\u001b[0;34m\u001b[0m\u001b[0m\n\u001b[1;32m     77\u001b[0m         \u001b[0mQConstant\u001b[0m\u001b[0;34m.\u001b[0m\u001b[0mset_current_model\u001b[0m\u001b[0;34m(\u001b[0m\u001b[0mself\u001b[0m\u001b[0;34m.\u001b[0m\u001b[0m_qmodule\u001b[0m\u001b[0;34m)\u001b[0m\u001b[0;34m\u001b[0m\u001b[0;34m\u001b[0m\u001b[0m\n\u001b[0;32m---> 78\u001b[0;31m         \u001b[0mself\u001b[0m\u001b[0;34m.\u001b[0m\u001b[0m_add_native_func_def\u001b[0m\u001b[0;34m(\u001b[0m\u001b[0;34m)\u001b[0m\u001b[0;34m\u001b[0m\u001b[0;34m\u001b[0m\u001b[0m\n\u001b[0m\u001b[1;32m     79\u001b[0m         model_extra_settings: List[Tuple[str, Any]] = [\n\u001b[1;32m     80\u001b[0m             \u001b[0;34m(\u001b[0m\u001b[0;34m\"constraints\"\u001b[0m\u001b[0;34m,\u001b[0m \u001b[0mconstraints\u001b[0m\u001b[0;34m)\u001b[0m\u001b[0;34m,\u001b[0m\u001b[0;34m\u001b[0m\u001b[0;34m\u001b[0m\u001b[0m\n",
            "\u001b[0;32m/usr/local/lib/python3.10/dist-packages/classiq/qmod/quantum_function.py\u001b[0m in \u001b[0;36m_add_native_func_def\u001b[0;34m(self)\u001b[0m\n\u001b[1;32m     97\u001b[0m         \u001b[0;32mif\u001b[0m \u001b[0mself\u001b[0m\u001b[0;34m.\u001b[0m\u001b[0mfunc_decl\u001b[0m\u001b[0;34m.\u001b[0m\u001b[0mname\u001b[0m \u001b[0;32min\u001b[0m \u001b[0mself\u001b[0m\u001b[0;34m.\u001b[0m\u001b[0m_qmodule\u001b[0m\u001b[0;34m.\u001b[0m\u001b[0mnative_defs\u001b[0m\u001b[0;34m:\u001b[0m\u001b[0;34m\u001b[0m\u001b[0;34m\u001b[0m\u001b[0m\n\u001b[1;32m     98\u001b[0m             \u001b[0;32mreturn\u001b[0m\u001b[0;34m\u001b[0m\u001b[0;34m\u001b[0m\u001b[0m\n\u001b[0;32m---> 99\u001b[0;31m         \u001b[0mself\u001b[0m\u001b[0;34m.\u001b[0m\u001b[0mexpand\u001b[0m\u001b[0;34m(\u001b[0m\u001b[0;34m)\u001b[0m\u001b[0;34m\u001b[0m\u001b[0;34m\u001b[0m\u001b[0m\n\u001b[0m\u001b[1;32m    100\u001b[0m         self._qmodule.native_defs[self.func_decl.name] = NativeFunctionDefinition(\n\u001b[1;32m    101\u001b[0m             \u001b[0;34m**\u001b[0m\u001b[0;34m{\u001b[0m\u001b[0;34m**\u001b[0m\u001b[0mself\u001b[0m\u001b[0;34m.\u001b[0m\u001b[0mfunc_decl\u001b[0m\u001b[0;34m.\u001b[0m\u001b[0mdict\u001b[0m\u001b[0;34m(\u001b[0m\u001b[0;34m)\u001b[0m\u001b[0;34m,\u001b[0m \u001b[0;34m**\u001b[0m\u001b[0;34m{\u001b[0m\u001b[0;34m\"body\"\u001b[0m\u001b[0;34m:\u001b[0m \u001b[0mself\u001b[0m\u001b[0;34m.\u001b[0m\u001b[0mbody\u001b[0m\u001b[0;34m}\u001b[0m\u001b[0;34m}\u001b[0m\u001b[0;34m\u001b[0m\u001b[0;34m\u001b[0m\u001b[0m\n",
            "\u001b[0;32m/usr/local/lib/python3.10/dist-packages/classiq/qmod/quantum_expandable.py\u001b[0m in \u001b[0;36mexpand\u001b[0;34m(self)\u001b[0m\n\u001b[1;32m     84\u001b[0m         \u001b[0;32mif\u001b[0m \u001b[0mself\u001b[0m \u001b[0;32mnot\u001b[0m \u001b[0;32min\u001b[0m \u001b[0mQExpandable\u001b[0m\u001b[0;34m.\u001b[0m\u001b[0mSTACK\u001b[0m\u001b[0;34m:\u001b[0m\u001b[0;34m\u001b[0m\u001b[0;34m\u001b[0m\u001b[0m\n\u001b[1;32m     85\u001b[0m             \u001b[0;32mwith\u001b[0m \u001b[0mself\u001b[0m\u001b[0;34m:\u001b[0m\u001b[0;34m\u001b[0m\u001b[0;34m\u001b[0m\u001b[0m\n\u001b[0;32m---> 86\u001b[0;31m                 \u001b[0mself\u001b[0m\u001b[0;34m.\u001b[0m\u001b[0m_py_callable\u001b[0m\u001b[0;34m(\u001b[0m\u001b[0;34m*\u001b[0m\u001b[0mself\u001b[0m\u001b[0;34m.\u001b[0m\u001b[0m_get_positional_args\u001b[0m\u001b[0;34m(\u001b[0m\u001b[0;34m)\u001b[0m\u001b[0;34m)\u001b[0m\u001b[0;34m\u001b[0m\u001b[0;34m\u001b[0m\u001b[0m\n\u001b[0m\u001b[1;32m     87\u001b[0m \u001b[0;34m\u001b[0m\u001b[0m\n\u001b[1;32m     88\u001b[0m     \u001b[0;32mdef\u001b[0m \u001b[0minfer_rename_params\u001b[0m\u001b[0;34m(\u001b[0m\u001b[0mself\u001b[0m\u001b[0;34m)\u001b[0m \u001b[0;34m->\u001b[0m \u001b[0mDict\u001b[0m\u001b[0;34m[\u001b[0m\u001b[0mstr\u001b[0m\u001b[0;34m,\u001b[0m \u001b[0mstr\u001b[0m\u001b[0;34m]\u001b[0m\u001b[0;34m:\u001b[0m\u001b[0;34m\u001b[0m\u001b[0;34m\u001b[0m\u001b[0m\n",
            "\u001b[0;32m<ipython-input-7-56f19c50b37b>\u001b[0m in \u001b[0;36mmain\u001b[0;34m(x, y)\u001b[0m\n\u001b[1;32m      5\u001b[0m   \u001b[0mprepare_state\u001b[0m\u001b[0;34m(\u001b[0m\u001b[0;34m[\u001b[0m\u001b[0;36m0.5\u001b[0m\u001b[0;34m,\u001b[0m \u001b[0;36m0\u001b[0m\u001b[0;34m,\u001b[0m \u001b[0;36m0.5\u001b[0m\u001b[0;34m,\u001b[0m \u001b[0;36m0\u001b[0m\u001b[0;34m]\u001b[0m\u001b[0;34m,\u001b[0m \u001b[0;36m0\u001b[0m\u001b[0;34m,\u001b[0m \u001b[0mx\u001b[0m\u001b[0;34m)\u001b[0m\u001b[0;34m\u001b[0m\u001b[0;34m\u001b[0m\u001b[0m\n\u001b[1;32m      6\u001b[0m   \u001b[0mprepare_state\u001b[0m\u001b[0;34m(\u001b[0m\u001b[0;34m[\u001b[0m\u001b[0;36m0\u001b[0m\u001b[0;34m,\u001b[0m \u001b[0;36m0.25\u001b[0m\u001b[0;34m,\u001b[0m \u001b[0;36m0.25\u001b[0m\u001b[0;34m,\u001b[0m \u001b[0;36m0.25\u001b[0m\u001b[0;34m,\u001b[0m \u001b[0;36m0\u001b[0m\u001b[0;34m,\u001b[0m \u001b[0;36m0\u001b[0m\u001b[0;34m,\u001b[0m \u001b[0;36m0.25\u001b[0m\u001b[0;34m,\u001b[0m \u001b[0;36m0\u001b[0m\u001b[0;34m]\u001b[0m\u001b[0;34m,\u001b[0m \u001b[0;36m0\u001b[0m\u001b[0;34m,\u001b[0m \u001b[0my\u001b[0m\u001b[0;34m)\u001b[0m\u001b[0;34m\u001b[0m\u001b[0;34m\u001b[0m\u001b[0m\n\u001b[0;32m----> 7\u001b[0;31m   \u001b[0mres\u001b[0m \u001b[0;34m|=\u001b[0m \u001b[0mx\u001b[0m \u001b[0;34m+\u001b[0m \u001b[0my\u001b[0m\u001b[0;34m\u001b[0m\u001b[0;34m\u001b[0m\u001b[0m\n\u001b[0m\u001b[1;32m      8\u001b[0m \u001b[0mqmod\u001b[0m \u001b[0;34m=\u001b[0m \u001b[0mcreate_model\u001b[0m\u001b[0;34m(\u001b[0m\u001b[0mmain\u001b[0m\u001b[0;34m)\u001b[0m\u001b[0;34m\u001b[0m\u001b[0;34m\u001b[0m\u001b[0m\n\u001b[1;32m      9\u001b[0m \u001b[0mqprog\u001b[0m \u001b[0;34m=\u001b[0m \u001b[0msynthesize\u001b[0m\u001b[0;34m(\u001b[0m\u001b[0mqmod\u001b[0m\u001b[0;34m)\u001b[0m\u001b[0;34m\u001b[0m\u001b[0;34m\u001b[0m\u001b[0m\n",
            "\u001b[0;31mUnboundLocalError\u001b[0m: local variable 'res' referenced before assignment"
          ]
        }
      ],
      "source": [
        "from classiq import *\n",
        "\n",
        "@qfunc\n",
        "def main(res: Output[QNum] ),x: Output[QNum[2, False, 0]], y: Output[QNum[3, True, 1]]):\n",
        "  prepare_state([0.5, 0, 0.5, 0], 0, x)\n",
        "  prepare_state([0, 0.25, 0.25, 0.25, 0, 0, 0.25, 0], 0, y)\n",
        "  res |= x + y\n",
        "qmod = create_model(main)\n",
        "qprog = synthesize(qmod)\n",
        "show(qprog)"
      ]
    },
    {
      "cell_type": "markdown",
      "metadata": {
        "id": "iAf1QKDin5iF"
      },
      "source": [
        "### Exercise 8 - Within-Apply\n",
        "\n",
        "The within-apply statement applies the pattern `U_dagger V U` that appears frequently in quantum computing.\n",
        "It allows you to compute some function `V` within the context of another function `U`, and afterward uncompute `U` in order to release auxiliary qubits storing intermediate results.\n",
        "\n",
        "See also [Within Apply](https://docs.classiq.io/latest/user-guide/platform/qmod/language-reference/statements/within-apply/).\n",
        "\n",
        "#### Exercise 8a\n",
        "\n",
        "In this exercise, we will use within-apply to compute an arithmetic expression in steps.\n",
        "\n",
        "Use the `within_apply` operation to calculate `res = x + y + z` from a two-variable addition building block with the following steps:\n",
        "1. Add `x` and `y`\n",
        "2. Add the result to `z`\n",
        "3. Uncompute the result of the first operation\n",
        "\n",
        "For simplicity, initialize the registers to simple integers: `x=3`, `y=5`, `z=2`.\n",
        "\n",
        "Hints:\n",
        "\n",
        "* Use a temporary variable.\n",
        "* Wrap the arithmetic operation in a function.\n",
        "\n",
        "Execute the circuit and make sure you obtain the expected result."
      ]
    },
    {
      "cell_type": "code",
      "execution_count": 8,
      "metadata": {
        "id": "FumxTkWkn5iF",
        "colab": {
          "base_uri": "https://localhost:8080/"
        },
        "outputId": "68bc4989-009d-4176-ff52-a7c85975b128"
      },
      "outputs": [
        {
          "output_type": "stream",
          "name": "stdout",
          "text": [
            "Opening: https://platform.classiq.io/circuit/03236631-d1e8-4f41-8498-4ca4a86b3538?version=0.41.2\n"
          ]
        }
      ],
      "source": [
        "from classiq import *\n",
        "\n",
        "@qfunc\n",
        "def my_add_two(a: QNum, b:QNum, res:Output[QNum]) -> None:\n",
        "  res |= a+b\n",
        "@qfunc\n",
        "def my_adder(a: QNum, b:QNum, c:QNum, res:Output[QNum]):\n",
        "  tmp = QNum('tmp')\n",
        "  within_apply(lambda : my_add_two(a,b,tmp), lambda :my_add_two(tmp,c, res))\n",
        "@qfunc\n",
        "def main(res: Output[QNum]) -> None:\n",
        "  x, y, z = QNum('x'), QNum('y'), QNum('z')\n",
        "  prepare_int(3,x), prepare_int(5,y), prepare_int(2,z)\n",
        "\n",
        "  my_adder(x,y,z,res)\n",
        "\n",
        "qmod = create_model(main)\n",
        "qprog = synthesize(qmod)\n",
        "show(qprog)"
      ]
    },
    {
      "cell_type": "markdown",
      "metadata": {
        "id": "Ew8daaLnn5iG"
      },
      "source": [
        "#### Exercise 8b\n",
        "\n",
        "Why should we use `within-apply` and not just write three concatenated functions?\n",
        "To understand the motivation, we will create another arithmetic circuit.\n",
        "This time, however, we will also set Classiq’s synthesis engine to optimize on the circuit’s number of qubits, i.e., its width.\n",
        "\n",
        "Setting constraints can be done via the `set_constraints` operation - see [here](https://docs.classiq.io/latest/user-guide/platform/synthesis/constraints/).\n",
        "\n",
        "Perform the operation `res = w + x + y + z`, where w is initialized to 4 and the rest as before:\n",
        "\n",
        "1. Add `x` and `y` (as part of the `within_apply` operation)\n",
        "2. Add the result to `z` (as part of the within_apply operation)\n",
        "3. Uncompute the result of the first operation (as part of the `within_apply` operation)\n",
        "4. Add the result of the second operation to `w`. There’s no need to perform another uncomputation, as this brings our calculation to an end.\n",
        "\n",
        "Create the model, optimize on the circuit’s width, and run the circuit. Can you identify where qubits have been released and reused?"
      ]
    },
    {
      "cell_type": "code",
      "execution_count": null,
      "metadata": {
        "id": "WrENcsYMn5iG"
      },
      "outputs": [],
      "source": [
        "from classiq import *\n",
        "\n",
        "# Your code here:\n",
        "\n",
        "qmod = create_model(main)\n",
        "qprog = synthesize(qmod)\n",
        "show(qprog)"
      ]
    },
    {
      "cell_type": "markdown",
      "metadata": {
        "id": "JALxV-otn5iH"
      },
      "source": [
        "#### Bonus: Use a Single Arithmetic Expression\n",
        "\n",
        "What happens when we don't manually decompose this expression?\n",
        "\n",
        "Use Classiq’s arithmetic engine to calculate `res |= x + y + z + w` and optimize for width.\n",
        "Look at the resulting quantum program - can you identify the computation and uncomputation blocks? What else did you notice?"
      ]
    },
    {
      "cell_type": "code",
      "execution_count": null,
      "metadata": {
        "id": "T2J-4mQDn5iH"
      },
      "outputs": [],
      "source": [
        "from classiq import *\n",
        "\n",
        "# Your code here:\n",
        "\n",
        "qmod = create_model(main)\n",
        "qprog = synthesize(qmod)\n",
        "show(qprog)"
      ]
    },
    {
      "cell_type": "markdown",
      "metadata": {
        "id": "JZzzqGPLn5iI"
      },
      "source": [
        "### Exercise 9 - In-place Arithmetics\n",
        "\n",
        "For the following exercise we will use numeric quantum variables that represent fixed-point reals.\n",
        "\n",
        "Arithmetic expressions can be calculated in-place into a target variable, without allocating new qubits to store the result. This is done using the in-place-xor operator.\n",
        "\n",
        "See also [Numeric assignment](https://docs.classiq.io/latest/user-guide/platform/qmod/language-reference/statements/numeric-assignment/#semantics).\n",
        "\n",
        "In-place assignment is often used to nest arithmetic expressions under quantum operators. Note that out-of-place assignment requires its left-value variable to be un-initialized, and therefore cannot be used under an operator if the variable is declared outside its scope. Applying operators to arithmetic expressions is required in many algorithms. One example is the piecewise evaluation of mathematical functions - calculating different expressions over `x` depending on the subdomain where `x` falls.\n",
        "\n",
        "For this exercise, replace the missing parts in the code snippet below to evaluate the result of:\n",
        "\n",
        "$$\n",
        "f(x) = \\begin{cases}\n",
        "      2x + 1 & \\text{ if } 0 \\leq x < 0.5 \\\\\n",
        "      x + 0.5 & \\text{ if } 0.5 \\leq x < 1\n",
        "   \\end{cases}\n",
        "$$\n",
        "\n",
        "Notes:\n",
        "- We cannot use `x` directly as the control variable in a `constrol` operator, because it also occurs in the nested scope. to determine if `x` is in the lower or higher half of the domain we duplicate the most significant bit onto a separate variable called `label`.\n",
        "- In Python assignment operators cannot be used in lambda expressions, so the computation of the function needs to be factored out to a named Python function (but not necessarily a Qmod function).\n"
      ]
    },
    {
      "cell_type": "code",
      "execution_count": 9,
      "metadata": {
        "id": "bKhGefHTn5iJ",
        "outputId": "39df2ea9-490a-4aee-e952-09b3b8f50a15",
        "colab": {
          "base_uri": "https://localhost:8080/"
        }
      },
      "outputs": [
        {
          "output_type": "stream",
          "name": "stdout",
          "text": [
            "Opening: https://platform.classiq.io/circuit/360edfdf-9a6e-40e7-948b-4e568aa5da00?version=0.41.2\n"
          ]
        }
      ],
      "source": [
        "\n",
        "from classiq import *\n",
        "\n",
        "\n",
        "def linear_func(a: float, b: float, x: QNum, res: QNum) -> None:\n",
        "    res ^= a * x + b\n",
        "\n",
        "\n",
        "@qfunc\n",
        "def dup_msb(qba: QArray[QBit], msb: QBit) -> None:\n",
        "    CX(qba[qba.len - 1], msb)\n",
        "\n",
        "\n",
        "@qfunc\n",
        "def main(x: Output[QNum[3, False, 3]], res: Output[QNum[5, False, 3]]) -> None:\n",
        "    allocate(5, res)\n",
        "    allocate(3, x)\n",
        "    hadamard_transform(x)\n",
        "\n",
        "    label = QArray(\"label\")\n",
        "    allocate(1, label)\n",
        "\n",
        "    dup_msb(x, label)\n",
        "    control(label, lambda: linear_func(1.0, 0.5, x, res))  # 0.5 <= x < 1.0\n",
        "    X(label)\n",
        "    control(label, lambda: linear_func(2.0, 1.0, x, res))  # 0.0 <= x < 0.5\n",
        "\n",
        "\n",
        "qmod = create_model(main)\n",
        "qprog = synthesize(qmod)\n",
        "show(qprog)"
      ]
    },
    {
      "cell_type": "markdown",
      "metadata": {
        "id": "rCM9B6mYn5iK"
      },
      "source": [
        "### Exercise 10 - State-preparation Algorithm using Quantum-if\n",
        "\n",
        "#### Binding\n",
        "The `bind` operation allows to convert smoothly between different quantum types and split or slice bits when necessary. Here’s an example:"
      ]
    },
    {
      "cell_type": "code",
      "execution_count": null,
      "metadata": {
        "id": "8hetxoKtn5iK",
        "outputId": "71d906b4-a0bf-485e-b335-7474e99142d1"
      },
      "outputs": [
        {
          "name": "stdout",
          "output_type": "stream",
          "text": [
            "Opening: https://platform.classiq.io/circuit/d865c2f7-c7ab-4092-8192-602cf2de60dc?version=0.40.0\n"
          ]
        }
      ],
      "source": [
        "from classiq import *\n",
        "\n",
        "\n",
        "\n",
        "from classiq import *\n",
        "from math import pi\n",
        "\n",
        "\n",
        "@qfunc\n",
        "def main(res: Output[QArray[QBit]]) -> None:\n",
        "    x: QArray[QBit] = QArray(\"x\")\n",
        "    allocate(3, x)\n",
        "    hadamard_transform(x)\n",
        "\n",
        "    lsb = QBit(\"lsb\")\n",
        "    msb = QNum(\"msb\", 2, False, 0)\n",
        "    bind(x, [lsb, msb])\n",
        "\n",
        "    control(msb == 1, lambda: RY(pi / 3, lsb))   # msb==1 <==> bit1 bit2 == 01 (binary of decimal 1)\n",
        "\n",
        "    bind([lsb, msb], res)\n",
        "\n",
        "model = create_model(main)\n",
        "qprog = synthesize(model)\n",
        "show(qprog)"
      ]
    },
    {
      "cell_type": "markdown",
      "metadata": {
        "id": "0RaTDmzan5iL"
      },
      "source": [
        "The first `bind` operation splits the 3-qubit register `x` into the 2-qubit and single-qubit registers `lsb` and `msb`, respectively.\n",
        "\n",
        "After the `bind` operation:\n",
        "1. The registers `lsb` and `msb` can be operated on as separated registers.\n",
        "2. The register`x` is consumed and can no longer be used.\n",
        "\n",
        "The second `bind` operation concatenates the registers to the output register `res`.\n",
        "\n",
        "For this exercise, fill in the missing code parts in the above snippet and use the `control` statement to manually generate the following lovely 3-qubit probability distribution: `[1/8, 1/8, 1/8, -sqrt(3)/16, 1/8 + sqrt(3)/16, 1/8, 1/8, 1/8, 1/8]`.\n",
        "\n",
        "The following series of gates generate it:\n",
        "\n",
        "Perform the Hadamard transform on all three qubits.\n",
        "\n",
        "Apply a rotation on the LSB (least-significant bit) conditioned by the MSB being |0> and the second to last MSB being |1>. How would you write this condition using a QNum?\n",
        "\n",
        "The following series of gates generate it:\n",
        "1. Perform the Hadamard transform on all three qubits.\n",
        "2. Apply a `pi/3` rotation on the LSB (least-significant bit) conditioned by the MSB being |0> and the second to last MSB being |1>. How would you write this condition using a QNum?\n",
        "\n",
        "If you want to validate your results without looking at the full solution, compare them to running using Classiq’s built-in `prepare_state` function.\n"
      ]
    },
    {
      "cell_type": "code",
      "execution_count": null,
      "metadata": {
        "id": "C4FE1s7Jn5iM"
      },
      "outputs": [],
      "source": [
        "from classiq import *\n",
        "from classiq.qmod.symbolic import sqrt\n",
        "\n",
        "prob_list= [\n",
        "            1 / 8,\n",
        "            1 / 8,\n",
        "            1 / 8,\n",
        "            -sqrt(3) / 16,\n",
        "            1 / 8 + sqrt(3) / 16,\n",
        "            1 / 8,\n",
        "            1 / 8,\n",
        "            1 / 8,\n",
        "            1 / 8,\n",
        "        ]\n",
        "@qfunc\n",
        "def pre_prepared_state(q: QArray[QBit]) -> None:\n",
        "    prepare_state(\n",
        "        [\n",
        "            1 / 8,\n",
        "            1 / 8,\n",
        "            1 / 8,\n",
        "            -sqrt(3) / 16,\n",
        "            1 / 8 + sqrt(3) / 16,\n",
        "            1 / 8,\n",
        "            1 / 8,\n",
        "            1 / 8,\n",
        "            1 / 8,\n",
        "        ],\n",
        "        0.0,\n",
        "        q,\n",
        "    )\n",
        "\n",
        "\n",
        "# Your code here:"
      ]
    }
  ],
  "metadata": {
    "kernelspec": {
      "display_name": "Python 3 (ipykernel)",
      "language": "python",
      "name": "python3"
    },
    "language_info": {
      "codemirror_mode": {
        "name": "ipython",
        "version": 3
      },
      "file_extension": ".py",
      "mimetype": "text/x-python",
      "name": "python",
      "nbconvert_exporter": "python",
      "pygments_lexer": "ipython3",
      "version": "3.11.8"
    },
    "colab": {
      "provenance": []
    }
  },
  "nbformat": 4,
  "nbformat_minor": 0
}